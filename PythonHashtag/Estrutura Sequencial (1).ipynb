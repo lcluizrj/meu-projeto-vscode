{
  "metadata": {
    "kernelspec": {
      "name": "xpython",
      "display_name": "Python 3.13 (XPython)",
      "language": "python"
    },
    "language_info": {
      "file_extension": ".py",
      "mimetype": "text/x-python",
      "name": "python",
      "version": "3.13.1"
    },
    "colab": {
      "provenance": []
    }
  },
  "nbformat_minor": 5,
  "nbformat": 4,
  "cells": [
    {
      "id": "bb0f9514",
      "cell_type": "markdown",
      "source": "# Lista de Estrutura Sequencial",
      "metadata": {
        "id": "bb0f9514"
      }
    },
    {
      "id": "4e7a8c30",
      "cell_type": "markdown",
      "source": "#### 1. Faça um Programa que mostre a mensagem (print) \"Alo mundo\" na tela.",
      "metadata": {
        "id": "4e7a8c30"
      }
    },
    {
      "id": "883bfe85",
      "cell_type": "code",
      "source": "saudacao = \"ola Mundo\"\nprint(saudacao)",
      "metadata": {
        "id": "883bfe85",
        "trusted": true
      },
      "outputs": [
        {
          "name": "stdout",
          "output_type": "stream",
          "text": "ola Mundo\n"
        }
      ],
      "execution_count": 1
    },
    {
      "id": "71d6d6a2",
      "cell_type": "markdown",
      "source": "#### 2. Faça um Programa que peça um número (input) e então mostre a mensagem: \"O número informado foi [número].\"",
      "metadata": {
        "id": "71d6d6a2"
      }
    },
    {
      "id": "30cfffcf",
      "cell_type": "code",
      "source": "numero = input(\"Digite um numero\")\nprint(numero)",
      "metadata": {
        "id": "30cfffcf",
        "trusted": true
      },
      "outputs": [
        {
          "output_type": "stream",
          "name": "stdin",
          "text": "Digite um numero 5\n"
        },
        {
          "name": "stdout",
          "output_type": "stream",
          "text": "5\n"
        }
      ],
      "execution_count": 2
    },
    {
      "id": "c5e43160",
      "cell_type": "markdown",
      "source": "#### 3. Faça um Programa que peça dois números e imprima a soma.",
      "metadata": {
        "id": "c5e43160"
      }
    },
    {
      "id": "b0e79590",
      "cell_type": "code",
      "source": "primeiro =int(input (\"Digite um numero\"))\nsegundo = int(input (\"digite um numero\"))\nprint(primeiro + segundo)",
      "metadata": {
        "id": "b0e79590",
        "trusted": true
      },
      "outputs": [
        {
          "output_type": "stream",
          "name": "stdin",
          "text": "Digite um numero 5\ndigite um numero 5\n"
        },
        {
          "name": "stdout",
          "output_type": "stream",
          "text": "10\n"
        }
      ],
      "execution_count": 2
    },
    {
      "id": "17826987",
      "cell_type": "markdown",
      "source": "#### 4. Faça um Programa que peça as 4 notas bimestrais de um aluno e mostre a média de todas as notas.",
      "metadata": {
        "id": "17826987"
      }
    },
    {
      "id": "23b66762",
      "cell_type": "code",
      "source": "janeiro = int(input(\"nota\"))\nfevereiro = int(input(\"nota\"))\nmarco = int(input(\"nota\"))\nabril = int(input(\"nota\"))\nmedia = (janeiro + fevereiro + marco + abril) / 4 \nprint(f\"A média das notas é {media}\")",
      "metadata": {
        "id": "23b66762",
        "trusted": true
      },
      "outputs": [
        {
          "output_type": "stream",
          "name": "stdin",
          "text": "nota 10\nnota 10\nnota 10\nnota 10\n"
        },
        {
          "name": "stdout",
          "output_type": "stream",
          "text": "A média das notas é 10.0\n"
        }
      ],
      "execution_count": 9
    },
    {
      "id": "62d461c5",
      "cell_type": "markdown",
      "source": "#### 5. Faça um Programa que converta metros para centímetros. Você pode pedir o comprimento em metros para o usuário (input).",
      "metadata": {
        "id": "62d461c5"
      }
    },
    {
      "id": "d642f1ba",
      "cell_type": "code",
      "source": "metro = int(input(\"escreva quanto metros deseja\"))\nvezes = (100)\nresultado = ( metro * vezes)\nprint(f\"{resultado}cm\")\n",
      "metadata": {
        "id": "d642f1ba",
        "trusted": true
      },
      "outputs": [
        {
          "output_type": "stream",
          "name": "stdin",
          "text": "escreva quanto metros deseja 5\n"
        },
        {
          "name": "stdout",
          "output_type": "stream",
          "text": "500cm\n"
        }
      ],
      "execution_count": 14
    },
    {
      "id": "f1311697",
      "cell_type": "markdown",
      "source": "#### 6. Faça um Programa que calcule a área de uma sala de um apartamento. Para isso, o seu programa precisa pedir a largura da sala, o comprimento da sala e imprimir a área em m² da sala.",
      "metadata": {
        "id": "f1311697"
      }
    },
    {
      "id": "612ea24b",
      "cell_type": "code",
      "source": "medidaLargura = int(input(\"largura da sala\"))\nmedidacomprimento = int(input(\"comprimento da sala\"))\narea = ( medidaLargura * medidacomprimento)\nprint( f\"{area}m²\")",
      "metadata": {
        "id": "612ea24b",
        "trusted": true
      },
      "outputs": [
        {
          "output_type": "stream",
          "name": "stdin",
          "text": "largura da sala 4\ncomprimento da sala 4\n"
        },
        {
          "name": "stdout",
          "output_type": "stream",
          "text": "16m²\n"
        }
      ],
      "execution_count": 16
    },
    {
      "id": "2a285929",
      "cell_type": "markdown",
      "source": "#### 7. Faça um Programa que pergunte quanto você ganha por hora e o número de horas trabalhadas no mês. Calcule e mostre o total do seu salário no referido mês.",
      "metadata": {
        "id": "2a285929"
      }
    },
    {
      "id": "359e2232",
      "cell_type": "code",
      "source": "vlrHoras = float( input(\" Valor das suas horas Trabalhadas \" ))\nqtdHorasMes = float( input(\" Quantidade Horas Mes\"))\nResultado = ( vlrHoras * qtdHorasMes)\nprint(f\" Total salario mes {Resultado}\")",
      "metadata": {
        "id": "359e2232",
        "trusted": true
      },
      "outputs": [
        {
          "output_type": "stream",
          "name": "stdin",
          "text": " Valor das suas horas Trabalhadas  5\n Quantidade Horas Mes 200\n"
        },
        {
          "name": "stdout",
          "output_type": "stream",
          "text": " Total salario mes 1000.0\n"
        }
      ],
      "execution_count": 17
    },
    {
      "id": "7e2d4615",
      "cell_type": "markdown",
      "source": "#### 8. Vamos criar um conversor de temperatura. Faça um Programa que peça a temperatura em graus Fahrenheit, transforme e mostre a temperatura em graus Celsius.\n$C = \\frac{5}{9}(F-32)$",
      "metadata": {
        "id": "7e2d4615"
      }
    },
    {
      "id": "82daf9fd",
      "cell_type": "code",
      "source": "Fahrenheit = int(input (\" Temperatura Fahrenheit Digite.\"))\nCelsius = 5/9*(Fahrenheit - 32)\nprint( f\" A temperatura em Celsius é {Celsius}\")",
      "metadata": {
        "id": "82daf9fd",
        "trusted": true
      },
      "outputs": [
        {
          "output_type": "stream",
          "name": "stdin",
          "text": " Temperatura Fahrenheit Digite. 93\n"
        },
        {
          "name": "stdout",
          "output_type": "stream",
          "text": " A temperatura em Celsius é 33.88888888888889\n"
        }
      ],
      "execution_count": 20
    },
    {
      "id": "20708b1c",
      "cell_type": "markdown",
      "source": "#### 9. Faça um Programa que peça a temperatura em graus Celsius, transforme e mostre em graus Fahrenheit.\n$F = \\frac{9}{5}C + 32$",
      "metadata": {
        "id": "20708b1c"
      }
    },
    {
      "id": "c73cfb38",
      "cell_type": "code",
      "source": "Celsius = int(input (\" Temperatura Celsius Digite.\"))\nFahrenheit = 9/5* Celsius + 32\nprint( f\" A temperatura em Fahrenheit é {Fahrenheit}\")",
      "metadata": {
        "id": "c73cfb38",
        "trusted": true
      },
      "outputs": [
        {
          "output_type": "stream",
          "name": "stdin",
          "text": " Temperatura Celsius Digite. 33\n"
        },
        {
          "name": "stdout",
          "output_type": "stream",
          "text": " A temperatura em Fahrenheit é 91.4\n"
        }
      ],
      "execution_count": 22
    },
    {
      "id": "b263a9dc",
      "cell_type": "markdown",
      "source": "#### 10. Tendo como dados de entrada a altura (h) de uma pessoa, construa um algoritmo que calcule seu peso ideal, usando a seguinte fórmula:\n$P = 72,7h - 58$\n\nLembrando que \"algoritmo\" nada mais é do que um programa, como todos os outros que você vem fazendo",
      "metadata": {
        "id": "b263a9dc"
      }
    },
    {
      "id": "9a9b8dca",
      "cell_type": "code",
      "source": "Altura = float(input(\"digite sua altura para saber o peso ideal\"))\nPesoIdeal = 72.7 * Altura - 58\nprint(f\" Seu peso ideal é {PesoIdeal}\")",
      "metadata": {
        "id": "9a9b8dca",
        "trusted": true
      },
      "outputs": [
        {
          "output_type": "stream",
          "name": "stdin",
          "text": "digite sua altura para saber o peso ideal 1.89\n"
        },
        {
          "name": "stdout",
          "output_type": "stream",
          "text": " Seu peso ideal é 79.40299999999999\n"
        }
      ],
      "execution_count": 23
    },
    {
      "id": "13bb40d7",
      "cell_type": "markdown",
      "source": "#### 11. Tendo como dado de entrada a altura (h) de uma pessoa, construa um algoritmo que calcule seu peso ideal, utilizando as seguintes fórmulas:\n##### a. Para homens: $P = 72,7h - 58$\n##### b. Para mulheres: $P = 62,1h - 44,7$",
      "metadata": {
        "id": "13bb40d7"
      }
    },
    {
      "id": "bf82dc8c",
      "cell_type": "code",
      "source": "AlturaH = float(input( \"Digite Altura\"))\nAlturaM = float(input( \"Digite Altura\"))\nPesoIdealH = 72.7 * AlturaH - 58\nPesoIdealM = 62.1 * AlturaM - 44.7\nprint(f\"Seu peso ideal é {PesoIdealH}\")\nprint(f\"Seu peso ideal é {PesoIdealM}\")\n",
      "metadata": {
        "id": "bf82dc8c",
        "trusted": true
      },
      "outputs": [
        {
          "output_type": "stream",
          "name": "stdin",
          "text": "Digite Altura 1.90\nDigite Altura 1.60\n"
        },
        {
          "name": "stdout",
          "output_type": "stream",
          "text": "Seu peso ideal é 80.13\nSeu peso ideal é 54.66000000000001\n"
        }
      ],
      "execution_count": 24
    },
    {
      "id": "f208ef89",
      "cell_type": "markdown",
      "source": "#### 12. Faça um Programa que pergunte quanto você ganha por hora e o número de horas trabalhadas no mês.",
      "metadata": {
        "id": "f208ef89"
      }
    },
    {
      "id": "2d5b23e0",
      "cell_type": "code",
      "source": "vlrHoras = float( input(\" Valor das suas horas Trabalhadas \" ))\nqtdHorasMes = float( input(\" Quantidade Horas Mes\"))\nResultado = ( vlrHoras * qtdHorasMes)\nprint(f\" Total salario mes {Resultado}\")",
      "metadata": {
        "id": "2d5b23e0",
        "trusted": true
      },
      "outputs": [
        {
          "output_type": "stream",
          "name": "stdin",
          "text": " Valor das suas horas Trabalhadas  15\n Quantidade Horas Mes 150\n"
        },
        {
          "name": "stdout",
          "output_type": "stream",
          "text": " Total salario mes 2250.0\n"
        }
      ],
      "execution_count": 25
    },
    {
      "id": "607dee3c",
      "cell_type": "markdown",
      "source": "#####  Calcule o salário bruto (horas * salario por hora)",
      "metadata": {
        "id": "607dee3c"
      }
    },
    {
      "id": "7f80ccbb",
      "cell_type": "code",
      "source": "vlrHoras = float( input(\" Valor das suas horas Trabalhadas \" ))\nHoras = float( input(\" Quantidade Horas \"))\nResultado = ( vlrHoras * Horas)\nprint(f\" Total salario mes {Resultado}\")",
      "metadata": {
        "id": "7f80ccbb",
        "trusted": true
      },
      "outputs": [
        {
          "output_type": "stream",
          "name": "stdin",
          "text": " Valor das suas horas Trabalhadas  25\n Quantidade Horas  192\n"
        },
        {
          "name": "stdout",
          "output_type": "stream",
          "text": " Total salario mes 4800.0\n"
        }
      ],
      "execution_count": 26
    },
    {
      "id": "2ed93cb0",
      "cell_type": "markdown",
      "source": "##### Calcule o desconto do IR (11% do salário bruto)",
      "metadata": {
        "id": "2ed93cb0"
      }
    },
    {
      "id": "3363e22f",
      "cell_type": "code",
      "source": "Salario = 4800\nPorcentagem = 11\nDescontoIR = Salario * (Porcentagem /100)\n\nprint( f\"DescontoIR é {DescontoIR}\")",
      "metadata": {
        "id": "3363e22f",
        "trusted": true
      },
      "outputs": [
        {
          "name": "stdout",
          "output_type": "stream",
          "text": "DescontoIR é 528.0\n"
        }
      ],
      "execution_count": 31
    },
    {
      "id": "0994b2c0",
      "cell_type": "markdown",
      "source": "##### Calcule o desconto do INSS (8% do salário bruto)",
      "metadata": {
        "id": "0994b2c0"
      }
    },
    {
      "id": "748c6088",
      "cell_type": "code",
      "source": "Salario = 4800\nPorcentagem = 8\nINSS = Salario * (Porcentagem /100)\n\nprint( f\"Desconto INSS é {INSS}\")",
      "metadata": {
        "id": "748c6088",
        "trusted": true
      },
      "outputs": [
        {
          "name": "stdout",
          "output_type": "stream",
          "text": "Desconto INSS é 384.0\n"
        }
      ],
      "execution_count": 35
    },
    {
      "id": "06e8dae4",
      "cell_type": "markdown",
      "source": "##### Calcule o desconto do sindicato (5% do salário bruto)",
      "metadata": {
        "id": "06e8dae4"
      }
    },
    {
      "id": "21b95b15",
      "cell_type": "code",
      "source": "Salario = 4800\nPorcentagem = 5\nSINDICATO = Salario * (Porcentagem /100)\n\nprint( f\"Desconto SINDICATO é {SINDICATO}\")",
      "metadata": {
        "scrolled": true,
        "id": "21b95b15",
        "trusted": true
      },
      "outputs": [
        {
          "name": "stdout",
          "output_type": "stream",
          "text": "Desconto SINDICATO é 240.0\n"
        }
      ],
      "execution_count": 34
    },
    {
      "id": "bb14ce36",
      "cell_type": "markdown",
      "source": "##### Calcule o salário líquido (salário bruto - descontos)",
      "metadata": {
        "id": "bb14ce36"
      }
    },
    {
      "id": "56317086",
      "cell_type": "code",
      "source": "Salario = 4800\nIR  = 528\nINSS = 384\nSINDICATO = 240\nSLiquido = Salario - IR - INSS - SINDICATO\n\nprint( f\"Salario Liquido é {SLiquido}\")",
      "metadata": {
        "id": "56317086",
        "trusted": true
      },
      "outputs": [
        {
          "name": "stdout",
          "output_type": "stream",
          "text": "Salario Liquido é 3648\n"
        }
      ],
      "execution_count": 37
    },
    {
      "id": "cfbfcc87",
      "cell_type": "markdown",
      "source": "#### 13. Faça um programa para uma loja de tintas. O programa deverá pedir o tamanho em metros quadrados da área a ser pintada. Considere que a cobertura da tinta é de 1 litro para cada 3 metros quadrados e que a tinta é vendida em latas de 18 litros, que custam R\\$ 80,00. Informe ao usuário a quantidades de latas de tinta a serem compradas e o preço total. (para simplificação nesse momento, não se preocupe em arredondar a quantidade de latas a serem compradas - vamos trabalhar isso em breve)",
      "metadata": {
        "id": "cfbfcc87"
      }
    },
    {
      "id": "fb6a083b",
      "cell_type": "code",
      "source": "area = float(input(\"Digite o tamanho da área a ser pintada (em m²): \"))\nlitros_necessarios = area / 3\nlatas_necessarias = litros_necessarios / 18\npreco_total = latas_necessarias * 80\n\n\nprint(f\"Você precisará de {latas_necessarias} latas de tinta.\")\nprint(f\"Preço total: R${preco_total}\")\n",
      "metadata": {
        "id": "fb6a083b",
        "trusted": true
      },
      "outputs": [
        {
          "output_type": "stream",
          "name": "stdin",
          "text": "Digite o tamanho da área a ser pintada (em m²):  100\n"
        },
        {
          "name": "stdout",
          "output_type": "stream",
          "text": "Você precisará de 1.851851851851852 latas de tinta.\nPreço total: R$148.14814814814815\n"
        }
      ],
      "execution_count": 39
    },
    {
      "id": "d6503c92",
      "cell_type": "markdown",
      "source": "#### 14. Faça um programa que peça o tamanho de um arquivo para download (em MB) e a velocidade de um link de Internet (em Mbps), calcule e informe o tempo aproximado de download do arquivo usando este link (em minutos).\n\nDetalhe: MB significa megabyte, Mb (com b minúsculo) significa megabit. Um megabit é 1/8 de um megabyte. ",
      "metadata": {
        "id": "d6503c92"
      }
    },
    {
      "id": "0563aa62",
      "cell_type": "code",
      "source": "tamanho_arquivo_mb = float(input(\"Digite o tamanho do arquivo (em MB): \"))\nvelocidade_link_mbps = float(input(\"Digite a velocidade do link (em Mbps): \"))\ntamanho_arquivo_megabits = tamanho_arquivo_mb * 8\ntempo_segundos = tamanho_arquivo_megabits / velocidade_link_mbps\ntempo_minutos = tempo_segundos / 60\n\nprint(f\"Tempo aproximado de download: {tempo_minutos:} minutos\")\n",
      "metadata": {
        "id": "0563aa62",
        "trusted": true
      },
      "outputs": [
        {
          "output_type": "stream",
          "name": "stdin",
          "text": "Digite o tamanho do arquivo (em MB):  1000\nDigite a velocidade do link (em Mbps):  10\n"
        },
        {
          "name": "stdout",
          "output_type": "stream",
          "text": "Tempo aproximado de download: 13.333333333333334 minutos\n"
        }
      ],
      "execution_count": 41
    },
    {
      "id": "504e5814-8aff-4243-a5fd-22cfffe9b99e",
      "cell_type": "code",
      "source": "",
      "metadata": {
        "trusted": true
      },
      "outputs": [],
      "execution_count": null
    }
  ]
}