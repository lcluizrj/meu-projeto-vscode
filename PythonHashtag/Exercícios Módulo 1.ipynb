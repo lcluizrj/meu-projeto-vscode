{
  "metadata": {
    "kernelspec": {
      "name": "xpython",
      "display_name": "Python 3.13 (XPython)",
      "language": "python"
    },
    "language_info": {
      "file_extension": ".py",
      "mimetype": "text/x-python",
      "name": "python",
      "version": "3.13.1"
    },
    "colab": {
      "provenance": []
    }
  },
  "nbformat_minor": 4,
  "nbformat": 4,
  "cells": [
    {
      "cell_type": "markdown",
      "source": "# Exercícios do Módulo 1 - Operações, Variáveis e Input",
      "metadata": {
        "id": "Pi-CJIef1ul1"
      }
    },
    {
      "cell_type": "markdown",
      "source": "### Parte 1 - Operações e Variáveis\nCrie um programa que imprima (print) os principais indicadores da loja Hashtag&Drink no último ano.\nObs: faça tudo usando variáveis.\n\nValores do último ano:\n\nQuantidade de Vendas de Coca = 150<br>\nQuantidade de Vendas de Pepsi = 130<br>\nPreço Unitário da Coca = 1,50 <br>\nPreço Unitário da Pepsi = 1,50<br>\nCusto da Loja: 2.500,00\n\nUse o bloco abaixo para criar todas as variáveis que precisar.",
      "metadata": {
        "id": "FJ2bFoIx1umA"
      }
    },
    {
      "cell_type": "code",
      "source": "QtdVendasCoca = 150\nPrecoUndCoca = 1.50\nQtdVendasPepsi = 130\nPrecoUndPepsi = 1.50 \nCustoLJ = 2500.00\nFaturamentoLJ = 420 \nlucro = -2080.00    ",
      "metadata": {
        "id": "8ou0OBBX1umC"
      },
      "outputs": [],
      "execution_count": 7
    },
    {
      "cell_type": "markdown",
      "source": "1. Qual foi o faturamento de Pepsi da Loja?",
      "metadata": {
        "id": "fW0kX-qN1umD"
      }
    },
    {
      "cell_type": "code",
      "source": "print(QtdVendasPepsi * PrecoUndPepsi)",
      "metadata": {
        "id": "zsBMI5vg1umE"
      },
      "outputs": [
        {
          "name": "stdout",
          "output_type": "stream",
          "text": "195.0\n"
        }
      ],
      "execution_count": 8
    },
    {
      "cell_type": "markdown",
      "source": "2. Qual foi o faturamento de Coca da Loja?",
      "metadata": {
        "id": "xgxOvmRz1umF"
      }
    },
    {
      "cell_type": "code",
      "source": "print(QtdVendasCoca * PrecoUndCoca)",
      "metadata": {
        "id": "NpsI_giv1umG"
      },
      "outputs": [
        {
          "name": "stdout",
          "output_type": "stream",
          "text": "225.0\n"
        }
      ],
      "execution_count": null
    },
    {
      "cell_type": "markdown",
      "source": "3. Qual foi o Lucro da loja?",
      "metadata": {
        "id": "8D_0mYbI1umH"
      }
    },
    {
      "cell_type": "code",
      "source": "print(FaturamentoLJ - CustoLJ )",
      "metadata": {
        "id": "doMwJLC-1umI",
        "tags": [],
        "editable": true,
        "slideshow": {
          "slide_type": ""
        }
      },
      "outputs": [
        {
          "name": "stdout",
          "output_type": "stream",
          "text": "-2080.0\n"
        }
      ],
      "execution_count": null
    },
    {
      "cell_type": "markdown",
      "source": "4. Qual foi a Margem da Loja? (Lembre-se, margem = Lucro / Faturamento). Não precisa formatar em percentual",
      "metadata": {
        "id": "bdua5-Ct1umJ"
      }
    },
    {
      "cell_type": "code",
      "source": "print(lucro / FaturamentoLJ)",
      "metadata": {
        "id": "ySAB6BNL1umK"
      },
      "outputs": [
        {
          "name": "stdout",
          "output_type": "stream",
          "text": "-4.9523809523809526\n"
        }
      ],
      "execution_count": null
    },
    {
      "cell_type": "markdown",
      "source": "### Parte 2 - Inputs e Strings",
      "metadata": {
        "id": "D1mYymiP1umL"
      }
    },
    {
      "cell_type": "markdown",
      "source": "A maioria das empresas trabalham com um Código para cada produto que possuem. A Hashtag&Drink, por exemplo, tem mais de 1.000 produtos e possui um código para cada produto.\nEx: \nCoca -> Código: BEB1300543<br>\nPepsi -> Código: BEB1300545<br>\nVinho Primitivo Lucarelli -> Código: BAC1546001<br>\nVodka Smirnoff -> Código: BAC17675002<br>\n\nRepare que todas as bebidas não alcóolicas tem o início do Código \"BEB\" e todas as bebidas alcóolicas tem o início do código \"BAC\".\n\nCrie um programa de consulta de bebida que, dado um código qualquer, identifique se a bebida é alcóolica. O programa deve responder True para bebidas alcóolicas e False para bebidas não alcóolicas. Para inserir um código, use um input.\n\nDica: Lembre-se do comando in para strings e sempre insira os códigos com letra maiúscula para facilitar.",
      "metadata": {
        "id": "mcbTaP8b1umN"
      }
    },
    {
      "cell_type": "code",
      "source": "codigo = input (\"Qual codigo da bebida?\")\nprint (\"BAC\" in codigo )",
      "metadata": {
        "trusted": true
      },
      "outputs": [
        {
          "output_type": "stream",
          "name": "stdin",
          "text": "Qual codigo da bebida? BAC93278362\n"
        },
        {
          "name": "stdout",
          "output_type": "stream",
          "text": "True\n"
        }
      ],
      "execution_count": 2
    },
    {
      "cell_type": "code",
      "source": "",
      "metadata": {
        "trusted": true
      },
      "outputs": [],
      "execution_count": null
    },
    {
      "cell_type": "code",
      "source": "",
      "metadata": {
        "trusted": true
      },
      "outputs": [],
      "execution_count": null
    }
  ]
}