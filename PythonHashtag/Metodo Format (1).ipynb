{
  "metadata": {
    "kernelspec": {
      "name": "xpython",
      "display_name": "Python 3.13 (XPython)",
      "language": "python"
    },
    "language_info": {
      "file_extension": ".py",
      "mimetype": "text/x-python",
      "name": "python",
      "version": "3.13.1"
    }
  },
  "nbformat_minor": 4,
  "nbformat": 4,
  "cells": [
    {
      "cell_type": "markdown",
      "source": "### Forma que fizemos na última aula (concatenando textos)",
      "metadata": {}
    },
    {
      "cell_type": "code",
      "source": "faturamento = 2000\ncusto = 500\nlucro = faturamento - custo\n\nprint('O faturamento da loja foi ' + str(faturamento) + '.O custo da loja foi ' + str(custo) + '.Assim, o lucro da loja foi de ' + str(lucro))",
      "metadata": {},
      "outputs": [],
      "execution_count": null
    },
    {
      "cell_type": "markdown",
      "source": "### Método format",
      "metadata": {}
    },
    {
      "cell_type": "code",
      "source": "faturamento = 2000\ncusto = 500\nlucro = faturamento - custo\nprint (\" O faturamento da loja foi \" + str(faturamento) + \". O custo da loja foi \" + str(custo) + \". Asssim, o lucro da loja foi de\" + str(lucro))",
      "metadata": {
        "trusted": true
      },
      "outputs": [
        {
          "name": "stdout",
          "output_type": "stream",
          "text": " O faturamento da loja foi 2000. O custo da loja foi 500. Asssim, o lucro da loja foi de1500\n"
        }
      ],
      "execution_count": 4
    },
    {
      "cell_type": "code",
      "source": "faturamento = 2000\ncusto = 500\nlucro = faturamento - custo\nprint (\" O faturamento da loja foi {}. O custo da loja foi  {}. Asssim, o lucro da loja foi de {}\".format(faturamento,custo,lucro))",
      "metadata": {
        "trusted": true
      },
      "outputs": [
        {
          "name": "stdout",
          "output_type": "stream",
          "text": " O faturamento da loja foi 2000. O custo da loja foi  500. Asssim, o lucro da loja foi de 1500\n"
        }
      ],
      "execution_count": 10
    },
    {
      "cell_type": "code",
      "source": "",
      "metadata": {
        "trusted": true
      },
      "outputs": [],
      "execution_count": null
    }
  ]
}