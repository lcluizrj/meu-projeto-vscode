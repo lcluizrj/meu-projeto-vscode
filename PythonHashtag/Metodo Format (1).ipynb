{
  "cells": [
    {
      "cell_type": "markdown",
      "metadata": {},
      "source": [
        "### Forma que fizemos na última aula (concatenando textos)"
      ]
    },
    {
      "cell_type": "code",
      "execution_count": null,
      "metadata": {},
      "outputs": [],
      "source": [
        "faturamento = 2000\n",
        "custo = 500\n",
        "lucro = faturamento - custo\n",
        "\n",
        "print('O faturamento da loja foi ' + str(faturamento) + '.O custo da loja foi ' + str(custo) + '.Assim, o lucro da loja foi de ' + str(lucro))"
      ]
    },
    {
      "cell_type": "markdown",
      "metadata": {},
      "source": [
        "### Método format"
      ]
    },
    {
      "cell_type": "code",
      "execution_count": 4,
      "metadata": {
        "trusted": true
      },
      "outputs": [
        {
          "name": "stdout",
          "output_type": "stream",
          "text": [
            " O faturamento da loja foi 2000. O custo da loja foi 500. Asssim, o lucro da loja foi de1500\n"
          ]
        }
      ],
      "source": [
        "faturamento = 2000\n",
        "custo = 500\n",
        "lucro = faturamento - custo\n",
        "print (\" O faturamento da loja foi \" + str(faturamento) + \". O custo da loja foi \" + str(custo) + \". Asssim, o lucro da loja foi de\" + str(lucro))"
      ]
    },
    {
      "cell_type": "code",
      "execution_count": 10,
      "metadata": {
        "trusted": true
      },
      "outputs": [
        {
          "name": "stdout",
          "output_type": "stream",
          "text": [
            " O faturamento da loja foi 2000. O custo da loja foi  500. Asssim, o lucro da loja foi de 1500\n"
          ]
        }
      ],
      "source": [
        "faturamento = 2000\n",
        "custo = 500\n",
        "lucro = faturamento - custo\n",
        "print (\" O faturamento da loja foi {}. O custo da loja foi  {}. Asssim, o lucro da loja foi de {}\".format(faturamento,custo,lucro))"
      ]
    },
    {
      "cell_type": "code",
      "execution_count": null,
      "metadata": {
        "trusted": true
      },
      "outputs": [],
      "source": []
    }
  ],
  "metadata": {
    "kernelspec": {
      "display_name": "Python 3.13 (XPython)",
      "language": "python",
      "name": "xpython"
    },
    "language_info": {
      "file_extension": ".py",
      "mimetype": "text/x-python",
      "name": "python",
      "version": "3.13.1"
    }
  },
  "nbformat": 4,
  "nbformat_minor": 4
}
