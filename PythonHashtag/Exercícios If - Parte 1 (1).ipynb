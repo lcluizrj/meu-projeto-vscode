{
  "metadata": {
    "kernelspec": {
      "name": "python",
      "display_name": "Python (Pyodide)",
      "language": "python"
    },
    "language_info": {
      "codemirror_mode": {
        "name": "python",
        "version": 3
      },
      "file_extension": ".py",
      "mimetype": "text/x-python",
      "name": "python",
      "nbconvert_exporter": "python",
      "pygments_lexer": "ipython3",
      "version": "3.8"
    }
  },
  "nbformat_minor": 4,
  "nbformat": 4,
  "cells": [
    {
      "cell_type": "markdown",
      "source": "# Exercícios com if",
      "metadata": {}
    },
    {
      "cell_type": "markdown",
      "source": "## 1. Cálculo de Bônus\n\n- Crie um programa que calcule e dê um print no bônus que os funcionários devem receber segundo a regra:\n\nA meta é 1000 vendas.<br> \nSe o valor de vendas for maior ou igual a meta, o valor do bônus do funcionário é 10% do valor de vendas.<br>\nCaso contrário o valor de bônus do funcionário é 0.<br>\nPrint o bônus dos 3 funcionários",
      "metadata": {}
    },
    {
      "cell_type": "code",
      "source": "vendas_funcionario1 = 1000\nvendas_funcionario2 = 770\nvendas_funcionario3 = 2700\n\nif vendas_funcionario1 >= 1000:\n    print (\"o funcionario 1 ganho {} bonus\".format(vendas_funcionario1 * 0.1))\nif vendas_funcionario2 >= 1000:    \n    bonus = vendas_funcionario2 * 0.1\nelse:\n    bonus = 0\n    print(\"o funcionario 2 ganho {} bonus\".format(bonus))\nif vendas_funcionario3 >=1000:\n   bonus = vendas_funcionario3 * 0.1 \n   print(\"o funcionario 3 ganho {} bonus\".format(bonus))\n\n",
      "metadata": {
        "trusted": true
      },
      "outputs": [
        {
          "name": "stdout",
          "output_type": "stream",
          "text": "o funcionario 1 ganho 100.0 bonus\no funcionario 2 ganho 0 bonus\no funcionario 3 ganho 270.0 bonus\n"
        }
      ],
      "execution_count": 19
    },
    {
      "cell_type": "raw",
      "source": "Resposta:\nO funcionário 1 ganhou 100 de bônus\nO funcionário 2 ganhou 0 de bônus\nO funcionário 3 ganhou 270 de bônus",
      "metadata": {}
    },
    {
      "cell_type": "markdown",
      "source": "## 2. Cálculo de bônus com uma nova regra\n\n- Agora, crie um novo código que calcule e dê um print no bônus dos funcionários novamente. Porém há uma nova regra nesse 2º caso:\n\nA meta é 1000 vendas<br>\nAgora, os funcionários que venderem muito acima da meta ganham mais bônus do que os outros. Então o bônus é definido da seguinte forma:<br>\n\n- Se vendas funcionário for maior ou igual a 2000, então o bônus é de 15% sobre o valor de vendas\n- Se vendas funcionário for menor do que 2000 e maior ou igual a 1000, então o bônus é de 10% sobre o valor de vendas\n- Se vendas funcionário for menos do que 1000 então o bônus do funcionário é de 0.\n\nUse as mesmas variáveis de vendas_funcionários",
      "metadata": {}
    },
    {
      "cell_type": "code",
      "source": "if vendas_funcionario1 >= 1000:\n    if vendas_funcionario1 >= 2000:\n       bonus = 0.15 * vendas_funcionario1\n    else:\n        bonus = 0.1 * vendas_funcionario1\nelse:\n    bonus = 0\nprint (\"o funcionario 1 ganho {} bonus\".format(bonus))\n#venda 2 metodo elif\n\nif vendas_funcionario2 >= 2000:\n       bonus = 0.15 * vendas_funcionario2\nelif vendas_funcionario2 >= 1000:\n    bonus = 0.1 * vendas_funcionario2\nelse:\n    bonus = 0\nprint (\"o funcionario 2 ganho {} bonus\".format(bonus))\n\n\nif vendas_funcionario3 >= 1000:\n    if vendas_funcionario3 >= 2000:\n       bonus = 0.15 * vendas_funcionario3\n    else:\n        bonus = 0.1 * vendas_funcionario3\nelse:\n    bonus = 0\nprint (\"o funcionario 3 ganho {} bonus\".format(bonus))",
      "metadata": {
        "trusted": true
      },
      "outputs": [
        {
          "name": "stdout",
          "output_type": "stream",
          "text": "o funcionario 1 ganho 100.0 bonus\no funcionario 2 ganho 0 bonus\no funcionario 3 ganho 405.0 bonus\n"
        }
      ],
      "execution_count": 23
    },
    {
      "cell_type": "raw",
      "source": "Resposta:\nO funcionário 1 ganhou 100 de bônus\nO funcionário 2 ganhou 0 de bônus\nO funcionário 3 ganhou 405 de bônus",
      "metadata": {}
    }
  ]
}